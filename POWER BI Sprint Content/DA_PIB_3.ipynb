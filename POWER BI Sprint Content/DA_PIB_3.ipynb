{
  "nbformat": 4,
  "nbformat_minor": 0,
  "metadata": {
    "colab": {
      "provenance": []
    },
    "kernelspec": {
      "name": "python3",
      "display_name": "Python 3"
    },
    "language_info": {
      "name": "python"
    }
  },
  "cells": [
    {
      "cell_type": "markdown",
      "source": [
        "# Module: Communicating Analysis Results\n",
        "## Sprint: Visualising Data using Power BI\n",
        "## Part 3: Bringing your dashboards to next level\n",
        "\n",
        "In this final part of the sprint Intro, you will learn lessons in storytelling and how to put it all together by reading chapters 7-8 from the “Storytelling with Data” book.\n",
        "\n",
        "Next, you will learn how to build advanced reporting using AI-powered visuals in Power BI by reading “Learning Microsoft Power BI” chapter 7. Feel free to skip the “R and Python Integration” part in this chapter if you are unfamiliar or not interested in this functionality. The video tutorials by the “Solution Abroad” channel will familiarize you further with AI-powered visuals and provide options for sharing your dashboards.\n",
        "\n",
        "<br>\n",
        "\n",
        "## Key Resources\n",
        "Part 3: Bringing your dashboards to next level\n",
        "\n",
        "[Storytelling with Data: A Data Visualization Guide for Business Professionals](https://learning.oreilly.com/library/view/storytelling-with-data/9781119002253/)\n",
        "- Chapter 7-8\n",
        "\n",
        "[Learning Microsoft Power BI](https://learning.oreilly.com/library/view/learning-microsoft-power/9781098112837/)\n",
        "- Chapter 7 (can skip “R and Python Integration” part)\n",
        "\n",
        "[Every AI Feature You Should Know in Power BI](https://www.youtube.com/watch?v=5URcVnV29Is)\n",
        "- Note: have in mind that some of the features shown won’t be available for the Free version of Power BI.\n",
        "\n",
        "[How to Share Power BI Reports for Free](https://www.youtube.com/watch?v=Qqs9XZlUd7U)\n",
        "\n",
        "<br>\n",
        "\n",
        "## Additional Resources\n",
        "\n",
        "[Exploratory vs Explanatory analysis](https://www.storytellingwithdata.com/blog/2014/04/exploratory-vs-explanatory-analysis)\n",
        "- If you struggle with understanding difference between Exploratory and Explanatory analysis\n",
        "\n",
        "[Learning Microsoft Power BI](https://learning.oreilly.com/library/view/learning-microsoft-power/9781098112837/)\n",
        "\n",
        "- Chapter 8: Introduction To Power BI Service\n",
        "- Chapter 10: Third-Party Tools\n",
        "\n",
        "[Storytelling with Data: A Data Visualization Guide for Business Professionals](https://learning.oreilly.com/library/view/storytelling-with-data/9781119002253/)\n",
        "- Chapters 9: Case Studies\n",
        "- Chapter 10: Final Thoughts\n",
        "\n",
        "[Connecting Power BI to BigQuery tables](https://www.youtube.com/watch?v=rBTcI2jSiTw)\n",
        "\n",
        "<br>\n",
        "\n",
        "<b>Advanced Dashboard Examples:</B>\n",
        "\n",
        "- [9 Power BI Dashboard Examples](https://www.datacamp.com/blog/9-power-bi-dashboard-examples)\n",
        "- [Get samples for Power BI](https://learn.microsoft.com/en-us/power-bi/create-reports/sample-datasets)\n",
        "\n",
        "\n",
        "\n",
        "\n",
        "\n"
      ],
      "metadata": {
        "id": "f0_TXErSaNi8"
      }
    }
  ]
}