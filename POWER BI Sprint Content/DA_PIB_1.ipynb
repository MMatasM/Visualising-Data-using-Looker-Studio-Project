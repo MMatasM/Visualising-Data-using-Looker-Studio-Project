{
  "nbformat": 4,
  "nbformat_minor": 0,
  "metadata": {
    "colab": {
      "provenance": []
    },
    "kernelspec": {
      "name": "python3",
      "display_name": "Python 3"
    },
    "language_info": {
      "name": "python"
    }
  },
  "cells": [
    {
      "cell_type": "markdown",
      "source": [
        "# Module: Communicating Analysis Results\n",
        "## Sprint: Visualising Data using Power BI\n",
        "## Part 1: Dashboards basics\n",
        "\n",
        "The main objective of this sprint is for you to gain an in-depth understanding of ways to visualize data and working practice with Microsoft Power BI. You will learn how to approach different visualization tasks as a data analyst.\n",
        "\n",
        "By now, you have probably realized that the results of your analysis needs to be communicated clearly, and the required information should be presented in an understandable way. For a data analyst, while it's essential to get the data correct, it's often just as crucial, or even more so, to be able to clearly visualize the results.\n",
        "\n",
        "\n",
        "Visualization is a craft that can sometimes be overlooked with analysts either under-developing and not bringing enough value from the data or, on the contrary, over-developing, creating heavy visualizations with a lot of features that may not be relevant for the business task. No matter how you are presenting your data and findings, whether this is a presentation, a dashboard, or a report, you always have to keep in mind who your audience is and what story you are trying to tell. So, one of the vital parts is understanding how to use various data visualization tools and how.\n",
        "\n",
        "<br>\n",
        "\n",
        "All practical exercises and information focus on Microsoft Power BI. It is an excellent all-rounder visualization tool to start learning advanced reporting for a data analyst, as it has multiple benefits:\n",
        "- Easily accessible (free version available) and has seamless integration with Microsoft tools (like Excel, Azure, etc.) and various databases.\n",
        "- Quick to start and in appearance, it resembles other Microsoft tools you may already be familiar with.\n",
        "- When connected to an analytical database (ex. BigQuery as in our example), provides an efficient way to build and view visualizations.\n",
        "- It provides excellent multiple data transformation capabilities, although initially, it may take some work to grasp.\n",
        "- It is flexible enough to create quite complex, functional, and interactive dashboards. Moreover,\n",
        "- Recent development of integration to R and Python allows using it even for Data Science applications.\n",
        "- A widely used tool among large corporations and banks.\n",
        "\n",
        "\n",
        "Understanding Power BI mechanics and having more hands-on experience with different visualizations will give you a good start with any other reporting tools, such as Tableau, Looker, and others, should you encounter them in your new job. From our own experience, if you have learned one data visualization tool well, it is relatively easy to switch to a new one. The key is knowing how to create dashboards and the various functions they can perform.\n",
        "\n",
        "\n",
        "\n",
        "We will be alternating between theory and practice by reading chapters from books and getting practical exercises in Power BI. Theory will be covered by reading a short book By Cole Nussbaumer Knaflic called Storytelling with Data: A Data Visualization Guide for Business Professionals. This is a great book with solid visualization examples. Even though this book does not focus on any particular data visualization software tool, it will provide you with a great foundation of how your dashboards should look going forward in this sprint.\n",
        "\n",
        "The next one will be the Learning Microsoft Power BI book by Jeremey Arnold. We will start with Chapter 2, where you will get familiar with different sections and menus in Power BI. Chapter 3 will provide more details about connecting various data sources to your dashboard-building tool. We will finish off with Chapter 4, which will introduce you to different chart types available and how to build them.\n",
        "\n",
        "In addition to this book, we will provide video tutorials, so it would be easier to follow and get your practice working with Power BI as well. While going through practical exercises in the books and video tutorials, make sure you follow through with those exercises. Hence, you get more familiar and comfortable with the Power BI tool and get used to the way of working with Power BI.\n",
        "\n",
        "<br>\n",
        "\n",
        "## Key Resources\n",
        "Part 1: Dashboards basics\n",
        "\n",
        "[Storytelling with Data: A Data Visualization Guide for Business Professionals](https://learning.oreilly.com/library/view/storytelling-with-data/9781119002253/)\n",
        "- Chapter 1-3\n",
        "\n",
        "[Learning Microsoft Power BI](https://learning.oreilly.com/library/view/learning-microsoft-power/9781098112837/)\n",
        "- Chapter 1-4\n",
        "\n",
        "[How to use Microsoft Power BI - Tutorial for Beginners](https://www.youtube.com/watch?v=TmhQCQr_DCA)"
      ],
      "metadata": {
        "id": "fuTMltqKR6rd"
      }
    }
  ]
}