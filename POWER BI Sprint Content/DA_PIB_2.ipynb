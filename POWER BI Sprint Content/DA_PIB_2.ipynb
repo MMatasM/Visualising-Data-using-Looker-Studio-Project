{
  "nbformat": 4,
  "nbformat_minor": 0,
  "metadata": {
    "colab": {
      "provenance": []
    },
    "kernelspec": {
      "name": "python3",
      "display_name": "Python 3"
    },
    "language_info": {
      "name": "python"
    }
  },
  "cells": [
    {
      "cell_type": "markdown",
      "source": [
        "# Module: Communicating Analysis Results\n",
        "## Sprint: Visualising Data using Power BI\n",
        "## Part 2: Making dashboards more interactive\n",
        "\n",
        "Let’s go back to our theory book Storytelling with Data. Through chapters 4 to 6, you will learn more about focusing your audience’s attention, thinking like a designer and dissecting your visuals.\n",
        "\n",
        "Returning to the Learning Microsoft Power BI book in Chapter 5, you will be introduced to different ways of manipulating your data, creating calculated columns, measures, and tables, utilizing DAX functions. Chapter 6 will provide more details about connecting different data tables and building on top of this functionality.\n",
        "\n",
        "Back to our videos, you will see 2, tutorials mainly focusing on advanced filtering functionality on Power BI, especially slicers. These videos should provide you with some ideas on how you can push your dashboards to the next level from a navigation and user experience point of view.\n",
        "\n",
        "<br>\n",
        "\n",
        "## Key Resources\n",
        "Part 2: Making dashboards more interactive\n",
        "\n",
        "[Storytelling with Data: A Data Visualization Guide for Business Professionals](https://learning.oreilly.com/library/view/storytelling-with-data/9781119002253/)\n",
        "- Chapter 4-6\n",
        "\n",
        "[Learning Microsoft Power BI](https://learning.oreilly.com/library/view/learning-microsoft-power/9781098112837/)\n",
        "- Chapter 5-6\n",
        "\n",
        "[Power BI slicers vs the filter pane (2021)](https://www.youtube.com/watch?v=NA2wlqfjX34)\n",
        "\n",
        "\n",
        "[Build a Slicer Panel in Power BI (2022/2023)](https://www.youtube.com/watch?v=-xl-uhgzgEA)\n"
      ],
      "metadata": {
        "id": "dvuy4gsDVSCe"
      }
    }
  ]
}